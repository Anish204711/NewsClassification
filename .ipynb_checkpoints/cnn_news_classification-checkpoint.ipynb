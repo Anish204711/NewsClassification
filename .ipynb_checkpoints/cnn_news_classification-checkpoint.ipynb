{
 "cells": [
  {
   "cell_type": "code",
   "execution_count": 3,
   "id": "5d1c4f2a",
   "metadata": {},
   "outputs": [],
   "source": [
    "import numpy as np\n",
    "import tensorflow as tf\n",
    "from tensorflow.keras.preprocessing.text import Tokenizer\n",
    "from tensorflow.keras.preprocessing.sequence import pad_sequences\n",
    "from tensorflow.keras.layers import Embedding, Conv1D, GlobalMaxPooling1D, Dense, Dropout\n",
    "from tensorflow.keras.models import Sequential\n",
    "from tensorflow.keras.optimizers import Adam\n",
    "from sklearn.model_selection import train_test_split\n",
    "from sklearn.preprocessing import LabelBinarizer\n",
    "import pandas as pd\n"
   ]
  },
  {
   "cell_type": "code",
   "execution_count": 4,
   "id": "1f42efb9",
   "metadata": {},
   "outputs": [],
   "source": [
    "\n",
    "df = pd.read_json('../dataset/News_Category_Dataset_v3.json', lines = True)\n",
    "df.head()\n",
    "X = df['short_description']\n",
    "y = df['category']\n",
    "\n"
   ]
  },
  {
   "cell_type": "code",
   "execution_count": 5,
   "id": "d7ec36a9",
   "metadata": {},
   "outputs": [],
   "source": [
    "# Tokenize and pad sequences\n",
    "max_words = 10000  # Maximum number of words in the vocabulary\n",
    "max_sequence_length = 200  # Maximum length of input sequences\n",
    "\n",
    "tokenizer = Tokenizer(num_words=max_words)\n",
    "tokenizer.fit_on_texts(X)\n",
    "X_sequences = tokenizer.texts_to_sequences(X)\n",
    "X_padded = pad_sequences(X_sequences, maxlen=max_sequence_length)\n",
    "\n"
   ]
  },
  {
   "cell_type": "code",
   "execution_count": 6,
   "id": "b6d522bb",
   "metadata": {},
   "outputs": [],
   "source": [
    "# One-hot encode labels\n",
    "label_binarizer = LabelBinarizer()\n",
    "y_encoded = label_binarizer.fit_transform(y)\n",
    "\n",
    "# Split the dataset into a training and testing set\n",
    "X_train, X_test, y_train, y_test = train_test_split(X_padded, y_encoded, test_size=0.2, random_state=42)\n",
    "\n"
   ]
  },
  {
   "cell_type": "code",
   "execution_count": 7,
   "id": "f0d02cab",
   "metadata": {},
   "outputs": [],
   "source": [
    "# Build the CNN model\n",
    "model = Sequential()\n",
    "model.add(Embedding(max_words, 100, input_length=max_sequence_length))\n",
    "model.add(Conv1D(128, 5, activation='relu'))\n",
    "model.add(GlobalMaxPooling1D())\n",
    "model.add(Dense(128, activation='relu'))\n",
    "model.add(Dropout(0.5))\n",
    "model.add(Dense(y_encoded.shape[1], activation='softmax'))\n",
    "\n",
    "model.compile(optimizer=Adam(learning_rate=0.001), loss='categorical_crossentropy', metrics=['accuracy'])\n",
    "\n"
   ]
  },
  {
   "cell_type": "code",
   "execution_count": 8,
   "id": "8c3cc6e0",
   "metadata": {},
   "outputs": [
    {
     "name": "stdout",
     "output_type": "stream",
     "text": [
      "Epoch 1/10\n",
      "4191/4191 [==============================] - 329s 78ms/step - loss: 2.6661 - accuracy: 0.3302 - val_loss: 2.2920 - val_accuracy: 0.4021\n",
      "Epoch 2/10\n",
      "4191/4191 [==============================] - 303s 72ms/step - loss: 2.2369 - accuracy: 0.4170 - val_loss: 2.1967 - val_accuracy: 0.4223\n",
      "Epoch 3/10\n",
      "4191/4191 [==============================] - 279s 67ms/step - loss: 2.0397 - accuracy: 0.4531 - val_loss: 2.2132 - val_accuracy: 0.4260\n",
      "Epoch 4/10\n",
      "4191/4191 [==============================] - 273s 65ms/step - loss: 1.8565 - accuracy: 0.4883 - val_loss: 2.2962 - val_accuracy: 0.4193\n",
      "Epoch 5/10\n",
      "4191/4191 [==============================] - 270s 64ms/step - loss: 1.6795 - accuracy: 0.5223 - val_loss: 2.4407 - val_accuracy: 0.4132\n",
      "Epoch 6/10\n",
      "4191/4191 [==============================] - 268s 64ms/step - loss: 1.5178 - accuracy: 0.5589 - val_loss: 2.6338 - val_accuracy: 0.4056\n",
      "Epoch 7/10\n",
      "4191/4191 [==============================] - 273s 65ms/step - loss: 1.3782 - accuracy: 0.5924 - val_loss: 2.9857 - val_accuracy: 0.3977\n",
      "Epoch 8/10\n",
      "4191/4191 [==============================] - 274s 65ms/step - loss: 1.2685 - accuracy: 0.6174 - val_loss: 3.1677 - val_accuracy: 0.3876\n",
      "Epoch 9/10\n",
      "4191/4191 [==============================] - 277s 66ms/step - loss: 1.1750 - accuracy: 0.6436 - val_loss: 3.4926 - val_accuracy: 0.3838\n",
      "Epoch 10/10\n",
      "4191/4191 [==============================] - 275s 66ms/step - loss: 1.1026 - accuracy: 0.6623 - val_loss: 3.8528 - val_accuracy: 0.3757\n"
     ]
    }
   ],
   "source": [
    "# Train the model\n",
    "batch_size = 32\n",
    "epochs = 10\n",
    "\n",
    "history = model.fit(X_train, y_train, batch_size=batch_size, epochs=epochs, validation_split=0.2)\n",
    "\n"
   ]
  },
  {
   "cell_type": "code",
   "execution_count": 21,
   "id": "52ee9170",
   "metadata": {},
   "outputs": [
    {
     "name": "stdout",
     "output_type": "stream",
     "text": [
      "Test Accuracy: 0.3755309581756592\n"
     ]
    }
   ],
   "source": [
    "# Evaluate the model\n",
    "accuracy = model.evaluate(X_test, y_test, verbose=0)\n",
    "print(\"Test Accuracy:\", accuracy[1])"
   ]
  },
  {
   "cell_type": "code",
   "execution_count": 19,
   "id": "d3b529ac",
   "metadata": {},
   "outputs": [],
   "source": []
  },
  {
   "cell_type": "code",
   "execution_count": null,
   "id": "f68bb716",
   "metadata": {},
   "outputs": [],
   "source": []
  },
  {
   "cell_type": "code",
   "execution_count": null,
   "id": "b5620f8a",
   "metadata": {},
   "outputs": [],
   "source": []
  }
 ],
 "metadata": {
  "kernelspec": {
   "display_name": "Python 3 (ipykernel)",
   "language": "python",
   "name": "python3"
  },
  "language_info": {
   "codemirror_mode": {
    "name": "ipython",
    "version": 3
   },
   "file_extension": ".py",
   "mimetype": "text/x-python",
   "name": "python",
   "nbconvert_exporter": "python",
   "pygments_lexer": "ipython3",
   "version": "3.9.12"
  }
 },
 "nbformat": 4,
 "nbformat_minor": 5
}
