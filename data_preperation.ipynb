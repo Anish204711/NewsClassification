{
 "cells": [
  {
   "cell_type": "markdown",
   "id": "463f3d15",
   "metadata": {},
   "source": [
    "# Reading Text Files and Labeling them"
   ]
  },
  {
   "cell_type": "code",
   "execution_count": 2,
   "id": "8c55b643",
   "metadata": {},
   "outputs": [
    {
     "name": "stderr",
     "output_type": "stream",
     "text": [
      "C:\\Users\\grish\\anaconda3\\lib\\site-packages\\scipy\\__init__.py:146: UserWarning: A NumPy version >=1.16.5 and <1.23.0 is required for this version of SciPy (detected version 1.26.2\n",
      "  warnings.warn(f\"A NumPy version >={np_minversion} and <{np_maxversion}\"\n"
     ]
    }
   ],
   "source": [
    "import os\n",
    "import pandas as pd"
   ]
  },
  {
   "cell_type": "code",
   "execution_count": 10,
   "id": "a6640f15",
   "metadata": {},
   "outputs": [],
   "source": [
    "# Initialize an empty DataFrame\n",
    "df = pd.DataFrame(columns=['Text', 'Labels'])"
   ]
  },
  {
   "cell_type": "code",
   "execution_count": 11,
   "id": "9f6f2b54",
   "metadata": {},
   "outputs": [
    {
     "data": {
      "text/html": [
       "<div>\n",
       "<style scoped>\n",
       "    .dataframe tbody tr th:only-of-type {\n",
       "        vertical-align: middle;\n",
       "    }\n",
       "\n",
       "    .dataframe tbody tr th {\n",
       "        vertical-align: top;\n",
       "    }\n",
       "\n",
       "    .dataframe thead th {\n",
       "        text-align: right;\n",
       "    }\n",
       "</style>\n",
       "<table border=\"1\" class=\"dataframe\">\n",
       "  <thead>\n",
       "    <tr style=\"text-align: right;\">\n",
       "      <th></th>\n",
       "      <th>Text</th>\n",
       "      <th>Labels</th>\n",
       "    </tr>\n",
       "  </thead>\n",
       "  <tbody>\n",
       "  </tbody>\n",
       "</table>\n",
       "</div>"
      ],
      "text/plain": [
       "Empty DataFrame\n",
       "Columns: [Text, Labels]\n",
       "Index: []"
      ]
     },
     "execution_count": 11,
     "metadata": {},
     "output_type": "execute_result"
    }
   ],
   "source": [
    "df"
   ]
  },
  {
   "cell_type": "code",
   "execution_count": 5,
   "id": "064523e7",
   "metadata": {},
   "outputs": [],
   "source": [
    "\n",
    "# Specify the path to your directory\n",
    "filepath=[]\n",
    "labels=[]\n",
    "path=''\n",
    "directory_path = '../dataset/data'\n",
    "# Get a list of all files in the directory\n",
    "for files in os.listdir(directory_path):\n",
    "    path=os.path.join(directory_path,files,files)\n",
    "    for text_data in (os.listdir(path)):\n",
    "        filepath.append(os.path.join(path,text_data))\n",
    "        labels.append(files)\n"
   ]
  },
  {
   "cell_type": "code",
   "execution_count": 6,
   "id": "1e6f3255",
   "metadata": {},
   "outputs": [
    {
     "name": "stdout",
     "output_type": "stream",
     "text": [
      "10000\n"
     ]
    }
   ],
   "source": [
    "news=[]\n",
    "for data in filepath:\n",
    "    file_content=''\n",
    "    with open(data, 'r',encoding='UTF-8') as file:\n",
    "        file_content = file.read()\n",
    "        file.close()\n",
    "    news.append(file_content)\n",
    "print(len(news))"
   ]
  },
  {
   "cell_type": "code",
   "execution_count": 12,
   "id": "0110f82f",
   "metadata": {},
   "outputs": [
    {
     "name": "stdout",
     "output_type": "stream",
     "text": [
      "                                                   Text        Labels\n",
      "0     घर जग्गा कारोबारमा आत्मविश्वास गुमेको वर्ष\"बैं...  ArthaBanijya\n",
      "1     सहायताको प्राथमिकता तोक्न आयोजना बैंकप्राथमिकत...  ArthaBanijya\n",
      "2     व्यापारीको बेइमानीले सर्वसाधारणलाई सास्तीपेट्र...  ArthaBanijya\n",
      "3     मोबाइल सेट आयातमा टाइप एप्रुभल लागूसरकारले मोब...  ArthaBanijya\n",
      "4      रारामा रिसोर्ट र पर्यटक सेवा केन्द्र बन्नेदेश...  ArthaBanijya\n",
      "...                                                 ...           ...\n",
      "9995  वर्षाबीच मन्डेलाको स्मृतिसभाविश्वमै स्वतन्त्रत...         Viswa\n",
      "9996  हजारे फेरि अनशनमाभारतको संसद्को जारी सत्रबाटै ...         Viswa\n",
      "9997  भारतमा सर्वोच्चद्वारा समलिंगी सम्बन्ध अवैध ठहर...         Viswa\n",
      "9998  भारतका वरिष्ठ मन्त्रीद्वारा सर्वोच्चको विरोधसम...         Viswa\n",
      "9999  अस्ट्रेलियामा पनि गैरकानुनीअस्ट्रेलियाको क्यान...         Viswa\n",
      "\n",
      "[10000 rows x 2 columns]\n"
     ]
    }
   ],
   "source": [
    "df['Text'] = news\n",
    "df['Labels'] = labels\n",
    "print(df)"
   ]
  },
  {
   "cell_type": "markdown",
   "id": "6a48b86b",
   "metadata": {},
   "source": [
    "# Saving labeled data as csv file"
   ]
  },
  {
   "cell_type": "code",
   "execution_count": 13,
   "id": "9fa4527b",
   "metadata": {},
   "outputs": [],
   "source": [
    "out_path='../dataset'+'/'+'nepali_ds.csv'\n",
    "df.to_csv(out_path, index=False) "
   ]
  },
  {
   "cell_type": "code",
   "execution_count": 14,
   "id": "15293e57",
   "metadata": {},
   "outputs": [
    {
     "name": "stdout",
     "output_type": "stream",
     "text": [
      "10000\n"
     ]
    }
   ],
   "source": [
    "print(df.shape[0])"
   ]
  },
  {
   "cell_type": "code",
   "execution_count": null,
   "id": "3293a016",
   "metadata": {},
   "outputs": [],
   "source": []
  },
  {
   "cell_type": "code",
   "execution_count": null,
   "id": "4e1e437b",
   "metadata": {},
   "outputs": [],
   "source": []
  }
 ],
 "metadata": {
  "kernelspec": {
   "display_name": "Python 3 (ipykernel)",
   "language": "python",
   "name": "python3"
  },
  "language_info": {
   "codemirror_mode": {
    "name": "ipython",
    "version": 3
   },
   "file_extension": ".py",
   "mimetype": "text/x-python",
   "name": "python",
   "nbconvert_exporter": "python",
   "pygments_lexer": "ipython3",
   "version": "3.9.12"
  }
 },
 "nbformat": 4,
 "nbformat_minor": 5
}
