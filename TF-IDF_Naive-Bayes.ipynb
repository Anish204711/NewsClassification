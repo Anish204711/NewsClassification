{
 "cells": [
  {
   "cell_type": "markdown",
   "id": "bd2f184e",
   "metadata": {},
   "source": [
    "# Importing Libraries"
   ]
  },
  {
   "cell_type": "code",
   "execution_count": 53,
   "id": "a6ba9fac",
   "metadata": {},
   "outputs": [],
   "source": [
    "from keras.preprocessing import text, sequence\n",
    "from keras import layers, models, optimizers\n",
    "import os\n",
    "import pandas as pd\n",
    "from sklearn import model_selection\n",
    "from sklearn.svm import LinearSVC\n",
    "from sklearn.metrics import confusion_matrix\n",
    "from sklearn.feature_extraction.text import CountVectorizer\n",
    "from sklearn.feature_extraction.text import TfidfTransformer\n",
    "from sklearn.feature_extraction.text import TfidfVectorizer\n",
    "from sklearn import metrics\n",
    "from sklearn.datasets import load_files\n",
    "from sklearn import naive_bayes\n",
    "from sklearn.preprocessing import LabelEncoder\n",
    "import xgboost\n",
    "import matplotlib.pyplot as plt"
   ]
  },
  {
   "cell_type": "markdown",
   "id": "e93b7806",
   "metadata": {},
   "source": [
    "# Data Loading"
   ]
  },
  {
   "cell_type": "code",
   "execution_count": 54,
   "id": "b94e286f",
   "metadata": {},
   "outputs": [
    {
     "name": "stdout",
     "output_type": "stream",
     "text": [
      "                                                   Text        Labels\n",
      "0     घर जग्गा कारोबारमा आत्मविश्वास गुमेको वर्ष\"बैं...  ArthaBanijya\n",
      "1     सहायताको प्राथमिकता तोक्न आयोजना बैंकप्राथमिकत...  ArthaBanijya\n",
      "2     व्यापारीको बेइमानीले सर्वसाधारणलाई सास्तीपेट्र...  ArthaBanijya\n",
      "3     मोबाइल सेट आयातमा टाइप एप्रुभल लागूसरकारले मोब...  ArthaBanijya\n",
      "4      रारामा रिसोर्ट र पर्यटक सेवा केन्द्र बन्नेदेश...  ArthaBanijya\n",
      "...                                                 ...           ...\n",
      "9995  वर्षाबीच मन्डेलाको स्मृतिसभाविश्वमै स्वतन्त्रत...         Viswa\n",
      "9996  हजारे फेरि अनशनमाभारतको संसद्को जारी सत्रबाटै ...         Viswa\n",
      "9997  भारतमा सर्वोच्चद्वारा समलिंगी सम्बन्ध अवैध ठहर...         Viswa\n",
      "9998  भारतका वरिष्ठ मन्त्रीद्वारा सर्वोच्चको विरोधसम...         Viswa\n",
      "9999  अस्ट्रेलियामा पनि गैरकानुनीअस्ट्रेलियाको क्यान...         Viswa\n",
      "\n",
      "[10000 rows x 2 columns]\n"
     ]
    }
   ],
   "source": [
    "df=pd.read_csv('../dataset/nepali_ds.csv')\n",
    "print(df)"
   ]
  },
  {
   "cell_type": "code",
   "execution_count": 75,
   "id": "3f102980",
   "metadata": {},
   "outputs": [],
   "source": [
    "# split the dataset into training and validation datasets \n",
    "\n",
    "\n",
    "train_x, valid_x, train_y, valid_y = model_selection.train_test_split(df['Text'], df['Labels'])\n",
    "\n"
   ]
  },
  {
   "cell_type": "markdown",
   "id": "a794fc97",
   "metadata": {},
   "source": [
    "# Word Level tf-idf with naive bayes"
   ]
  },
  {
   "cell_type": "code",
   "execution_count": 76,
   "id": "0dcbce07",
   "metadata": {},
   "outputs": [],
   "source": [
    "\n",
    "# word level tf-idf\n",
    "tfidf_vect = TfidfVectorizer(analyzer='word', token_pattern=r'\\w{1,}', max_features=5000)\n",
    "tfidf_vect.fit(df['Text'])\n",
    "xtrain_tfidf =  tfidf_vect.transform(train_x)\n",
    "xvalid_tfidf =  tfidf_vect.transform(valid_x)"
   ]
  },
  {
   "cell_type": "code",
   "execution_count": 77,
   "id": "0c60f5a3",
   "metadata": {},
   "outputs": [],
   "source": [
    "def train_model(classifier, feature_vector_train, label, feature_vector_valid, is_neural_net=False):\n",
    "    # fit the training dataset on the classifier\n",
    "    hist=classifier.fit(feature_vector_train, label)\n",
    "    \n",
    "    # predict the labels on validation dataset\n",
    "    predictions = classifier.predict(feature_vector_valid)\n",
    "    \n",
    "    if is_neural_net:\n",
    "        predictions = predictions.argmax(axis=-1)\n",
    "    \n",
    "    return metrics.accuracy_score(predictions, valid_y),classifier, predictions,hist"
   ]
  },
  {
   "cell_type": "code",
   "execution_count": 78,
   "id": "f8c6c0e4",
   "metadata": {},
   "outputs": [
    {
     "name": "stdout",
     "output_type": "stream",
     "text": [
      "NB, WordLevel TF-IDF:  0.7984\n"
     ]
    }
   ],
   "source": [
    "# Naive Bayes on Word Level TF IDF Vectors\n",
    "\n",
    "accuracy,model,pred,hist = train_model(naive_bayes.MultinomialNB(), xtrain_tfidf, train_y, xvalid_tfidf)\n",
    "print (\"NB, WordLevel TF-IDF: \", accuracy)"
   ]
  },
  {
   "cell_type": "markdown",
   "id": "9d7cddb5",
   "metadata": {},
   "source": [
    "# Confusion Matrix"
   ]
  },
  {
   "cell_type": "code",
   "execution_count": 79,
   "id": "9253f9e1",
   "metadata": {},
   "outputs": [
    {
     "data": {
      "image/png": "[encoded data removed]",
      "text/plain": [
       "<Figure size 432x288 with 2 Axes>"
      ]
     },
     "metadata": {
      "needs_background": "light"
     },
     "output_type": "display_data"
    }
   ],
   "source": [
    "\n",
    "cm = confusion_matrix(valid_y, pred)\n",
    "cm_display = metrics.ConfusionMatrixDisplay(confusion_matrix = cm)\n",
    "\n",
    "cm_display.plot()\n",
    "plt.show()"
   ]
  },
  {
   "cell_type": "code",
   "execution_count": 83,
   "id": "fab32c42",
   "metadata": {},
   "outputs": [
    {
     "name": "stdout",
     "output_type": "stream",
     "text": [
      "0.7984 0.7984 0.7984\n"
     ]
    },
    {
     "name": "stderr",
     "output_type": "stream",
     "text": [
      "C:\\Users\\grish\\anaconda3\\lib\\site-packages\\sklearn\\metrics\\_classification.py:1370: UserWarning: Note that pos_label (set to 'positive') is ignored when average != 'binary' (got 'micro'). You may use labels=[pos_label] to specify a single positive class.\n",
      "  warnings.warn(\n",
      "C:\\Users\\grish\\anaconda3\\lib\\site-packages\\sklearn\\metrics\\_classification.py:1370: UserWarning: Note that pos_label (set to 'positive') is ignored when average != 'binary' (got 'micro'). You may use labels=[pos_label] to specify a single positive class.\n",
      "  warnings.warn(\n",
      "C:\\Users\\grish\\anaconda3\\lib\\site-packages\\sklearn\\metrics\\_classification.py:1370: UserWarning: Note that pos_label (set to 'positive') is ignored when average != 'binary' (got 'micro'). You may use labels=[pos_label] to specify a single positive class.\n",
      "  warnings.warn(\n"
     ]
    }
   ],
   "source": [
    "\n",
    "Precision = metrics.precision_score(valid_y, pred, pos_label='positive',average='micro')\n",
    "Sensitivity_recall = metrics.recall_score(valid_y, pred, pos_label='positive',average='micro')\n",
    "F1_score = metrics.f1_score(valid_y, pred, pos_label='positive',average='micro')\n",
    "print(Precision,Sensitivity_recall,F1_score)"
   ]
  },
  {
   "cell_type": "markdown",
   "id": "52554805",
   "metadata": {},
   "source": [
    "# Latest Prediction"
   ]
  },
  {
   "cell_type": "code",
   "execution_count": 31,
   "id": "942b7e13",
   "metadata": {},
   "outputs": [
    {
     "data": {
      "text/plain": [
       "array(['ArthaBanijya'], dtype='<U15')"
      ]
     },
     "execution_count": 31,
     "metadata": {},
     "output_type": "execute_result"
    }
   ],
   "source": [
    "test=['२ पुस, काठमाडौं । चालु आर्थिक वर्ष (आव) २०८०/८१ को पहिलो पाँच महिना (साउन–मंसिर)को अवधिमै सरकारले १ यस वर्ष १७ खर्ब ५१ अर्ब ३१ करोड रुपैयाँको बजेट कार्यान्वयन गरिरहेको सरकारले ४ खर्ब ५२ अर्ब रुपैयाँ ऋण (आन्तरिक र बाह्य) उठाएर  जोहो गर्नुपर्ने हुन्छ ।']\n",
    "test=tfidf_vect.transform(test)\n",
    "model.predict(test)"
   ]
  },
  {
   "cell_type": "markdown",
   "id": "d9bf7ea1",
   "metadata": {},
   "source": [
    "# label encode the target variable "
   ]
  },
  {
   "cell_type": "code",
   "execution_count": 84,
   "id": "19be486c",
   "metadata": {},
   "outputs": [],
   "source": [
    "encoder = LabelEncoder()\n",
    "\n",
    "train_y = encoder.fit_transform(train_y)\n",
    "valid_y = encoder.fit_transform(valid_y)"
   ]
  },
  {
   "cell_type": "markdown",
   "id": "c5addda4",
   "metadata": {},
   "source": [
    "# Extereme Gradient Boosting on Word Level TF IDF Vectors"
   ]
  },
  {
   "cell_type": "code",
   "execution_count": 85,
   "id": "665f06ad",
   "metadata": {},
   "outputs": [
    {
     "name": "stdout",
     "output_type": "stream",
     "text": [
      "Xgb, WordLevel TF-IDF:  0.8084\n"
     ]
    }
   ],
   "source": [
    "\n",
    "accuracy,model,pred,hist = train_model(xgboost.XGBClassifier(), xtrain_tfidf.tocsc(), train_y, xvalid_tfidf.tocsc())\n",
    "print (\"Xgb, WordLevel TF-IDF: \", accuracy)"
   ]
  },
  {
   "cell_type": "markdown",
   "id": "53550e5f",
   "metadata": {},
   "source": [
    "# Confusion Matrix"
   ]
  },
  {
   "cell_type": "code",
   "execution_count": 86,
   "id": "023ec526",
   "metadata": {},
   "outputs": [
    {
     "data": {
      "image/png": "[encoded data removed]",
      "text/plain": [
       "<Figure size 432x288 with 2 Axes>"
      ]
     },
     "metadata": {
      "needs_background": "light"
     },
     "output_type": "display_data"
    }
   ],
   "source": [
    "cm = confusion_matrix(valid_y, pred)\n",
    "cm_display = metrics.ConfusionMatrixDisplay(confusion_matrix = cm)\n",
    "\n",
    "cm_display.plot()\n",
    "plt.show()"
   ]
  },
  {
   "cell_type": "code",
   "execution_count": 87,
   "id": "fbc84ec1",
   "metadata": {},
   "outputs": [
    {
     "name": "stdout",
     "output_type": "stream",
     "text": [
      "0.8084 0.8084 0.8083999999999999\n"
     ]
    },
    {
     "name": "stderr",
     "output_type": "stream",
     "text": [
      "C:\\Users\\grish\\anaconda3\\lib\\site-packages\\sklearn\\metrics\\_classification.py:1370: UserWarning: Note that pos_label (set to 'positive') is ignored when average != 'binary' (got 'micro'). You may use labels=[pos_label] to specify a single positive class.\n",
      "  warnings.warn(\n",
      "C:\\Users\\grish\\anaconda3\\lib\\site-packages\\sklearn\\metrics\\_classification.py:1370: UserWarning: Note that pos_label (set to 'positive') is ignored when average != 'binary' (got 'micro'). You may use labels=[pos_label] to specify a single positive class.\n",
      "  warnings.warn(\n",
      "C:\\Users\\grish\\anaconda3\\lib\\site-packages\\sklearn\\metrics\\_classification.py:1370: UserWarning: Note that pos_label (set to 'positive') is ignored when average != 'binary' (got 'micro'). You may use labels=[pos_label] to specify a single positive class.\n",
      "  warnings.warn(\n"
     ]
    }
   ],
   "source": [
    "Precision = metrics.precision_score(valid_y, pred, pos_label='positive',average='micro')\n",
    "Sensitivity_recall = metrics.recall_score(valid_y, pred, pos_label='positive',average='micro')\n",
    "F1_score = metrics.f1_score(valid_y, pred, pos_label='positive',average='micro')\n",
    "print(Precision,Sensitivity_recall,F1_score)"
   ]
  },
  {
   "cell_type": "code",
   "execution_count": 52,
   "id": "8ce32e86",
   "metadata": {
    "scrolled": true
   },
   "outputs": [
    {
     "name": "stdout",
     "output_type": "stream",
     "text": [
      "['SuchanaPrabidhi']\n"
     ]
    }
   ],
   "source": [
    "test=['काठमाडौं । अमेरिकामै ‘बेबी प्लान’ गर्ने अभिनेत्री रेखा थापाको योजनालाई लिएर सामाजिक सञ्जाल विभाजित देखिएको छ । सामाजिक सञ्जाल प्रयोगकर्ताहरुले उनको पक्ष-विपक्षमा मत राखिरहेका छन् ।रेखा थापा जस्तो ठूलो सेलिब्रिटीले यस्तो निर्णय गर्दा समाजमा गलत सन्देश जाने आलोचकको तर्क छ । तर रेखा थापा व्यक्ति पनि भएको र उनको निजी अधिकारलाई सम्मान गर्नुपर्ने कतिपयको मत छ ।']\n",
    "test=tfidf_vect.transform(test)\n",
    "result=model.predict(test)\n",
    "print(encoder.inverse_transform(result))"
   ]
  },
  {
   "cell_type": "code",
   "execution_count": null,
   "id": "36538b1b",
   "metadata": {},
   "outputs": [],
   "source": []
  }
 ],
 "metadata": {
  "kernelspec": {
   "display_name": "Python 3 (ipykernel)",
   "language": "python",
   "name": "python3"
  },
  "language_info": {
   "codemirror_mode": {
    "name": "ipython",
    "version": 3
   },
   "file_extension": ".py",
   "mimetype": "text/x-python",
   "name": "python",
   "nbconvert_exporter": "python",
   "pygments_lexer": "ipython3",
   "version": "3.9.12"
  }
 },
 "nbformat": 4,
 "nbformat_minor": 5
}
