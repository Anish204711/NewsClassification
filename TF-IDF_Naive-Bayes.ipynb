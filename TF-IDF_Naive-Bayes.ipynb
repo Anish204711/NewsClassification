{
 "cells": [
  {
   "cell_type": "markdown",
   "id": "72a3db93",
   "metadata": {},
   "source": [
    "# Importing Libraries"
   ]
  },
  {
   "cell_type": "code",
   "execution_count": 3,
   "id": "3be14e26",
   "metadata": {},
   "outputs": [
    {
     "name": "stderr",
     "output_type": "stream",
     "text": [
      "C:\\Users\\grish\\anaconda3\\lib\\site-packages\\scipy\\__init__.py:146: UserWarning: A NumPy version >=1.16.5 and <1.23.0 is required for this version of SciPy (detected version 1.26.2\n",
      "  warnings.warn(f\"A NumPy version >={np_minversion} and <{np_maxversion}\"\n"
     ]
    }
   ],
   "source": [
    "from keras.preprocessing import text, sequence\n",
    "from keras import layers, models, optimizers\n",
    "import os\n",
    "import pandas as pd\n",
    "from sklearn import model_selection\n",
    "from sklearn.svm import LinearSVC\n",
    "from sklearn.metrics import confusion_matrix\n",
    "from sklearn.feature_extraction.text import CountVectorizer\n",
    "from sklearn.feature_extraction.text import TfidfTransformer\n",
    "from sklearn.feature_extraction.text import TfidfVectorizer\n",
    "from sklearn import metrics\n",
    "from sklearn.datasets import load_files\n",
    "from sklearn import naive_bayes\n",
    "from sklearn.preprocessing import LabelEncoder\n",
    "import xgboost"
   ]
  },
  {
   "cell_type": "markdown",
   "id": "611d84ca",
   "metadata": {},
   "source": [
    "# Data Loading"
   ]
  },
  {
   "cell_type": "code",
   "execution_count": 7,
   "id": "6776940c",
   "metadata": {},
   "outputs": [
    {
     "name": "stdout",
     "output_type": "stream",
     "text": [
      "                                                   Text        Labels\n",
      "0     घर जग्गा कारोबारमा आत्मविश्वास गुमेको वर्ष\"बैं...  ArthaBanijya\n",
      "1     सहायताको प्राथमिकता तोक्न आयोजना बैंकप्राथमिकत...  ArthaBanijya\n",
      "2     व्यापारीको बेइमानीले सर्वसाधारणलाई सास्तीपेट्र...  ArthaBanijya\n",
      "3     मोबाइल सेट आयातमा टाइप एप्रुभल लागूसरकारले मोब...  ArthaBanijya\n",
      "4      रारामा रिसोर्ट र पर्यटक सेवा केन्द्र बन्नेदेश...  ArthaBanijya\n",
      "...                                                 ...           ...\n",
      "9995  वर्षाबीच मन्डेलाको स्मृतिसभाविश्वमै स्वतन्त्रत...         Viswa\n",
      "9996  हजारे फेरि अनशनमाभारतको संसद्को जारी सत्रबाटै ...         Viswa\n",
      "9997  भारतमा सर्वोच्चद्वारा समलिंगी सम्बन्ध अवैध ठहर...         Viswa\n",
      "9998  भारतका वरिष्ठ मन्त्रीद्वारा सर्वोच्चको विरोधसम...         Viswa\n",
      "9999  अस्ट्रेलियामा पनि गैरकानुनीअस्ट्रेलियाको क्यान...         Viswa\n",
      "\n",
      "[10000 rows x 2 columns]\n"
     ]
    }
   ],
   "source": [
    "df=pd.read_csv('../dataset/nepali_ds.csv')\n",
    "print(df)"
   ]
  },
  {
   "cell_type": "code",
   "execution_count": 13,
   "id": "90b2b0bd",
   "metadata": {},
   "outputs": [],
   "source": [
    "# split the dataset into training and validation datasets \n",
    "\n",
    "\n",
    "train_x, valid_x, train_y, valid_y = model_selection.train_test_split(df['Text'], df['Labels'])\n",
    "\n"
   ]
  },
  {
   "cell_type": "markdown",
   "id": "1ce26443",
   "metadata": {},
   "source": [
    "# Word Level tf-idf with naive bayes"
   ]
  },
  {
   "cell_type": "code",
   "execution_count": 16,
   "id": "91285c7c",
   "metadata": {},
   "outputs": [],
   "source": [
    "\n",
    "# word level tf-idf\n",
    "tfidf_vect = TfidfVectorizer(analyzer='word', token_pattern=r'\\w{1,}', max_features=5000)\n",
    "tfidf_vect.fit(df['Text'])\n",
    "xtrain_tfidf =  tfidf_vect.transform(train_x)\n",
    "xvalid_tfidf =  tfidf_vect.transform(valid_x)"
   ]
  },
  {
   "cell_type": "code",
   "execution_count": 24,
   "id": "ba349f66",
   "metadata": {},
   "outputs": [],
   "source": [
    "def train_model(classifier, feature_vector_train, label, feature_vector_valid, is_neural_net=False):\n",
    "    # fit the training dataset on the classifier\n",
    "    classifier.fit(feature_vector_train, label)\n",
    "    \n",
    "    # predict the labels on validation dataset\n",
    "    predictions = classifier.predict(feature_vector_valid)\n",
    "    \n",
    "    if is_neural_net:\n",
    "        predictions = predictions.argmax(axis=-1)\n",
    "    \n",
    "    return metrics.accuracy_score(predictions, valid_y),classifier"
   ]
  },
  {
   "cell_type": "code",
   "execution_count": 25,
   "id": "bde88b11",
   "metadata": {},
   "outputs": [
    {
     "name": "stdout",
     "output_type": "stream",
     "text": [
      "NB, WordLevel TF-IDF:  0.8008\n"
     ]
    }
   ],
   "source": [
    "# Naive Bayes on Word Level TF IDF Vectors\n",
    "\n",
    "accuracy,model = train_model(naive_bayes.MultinomialNB(), xtrain_tfidf, train_y, xvalid_tfidf)\n",
    "print (\"NB, WordLevel TF-IDF: \", accuracy)"
   ]
  },
  {
   "cell_type": "markdown",
   "id": "144f73ae",
   "metadata": {},
   "source": [
    "# Latest Prediction"
   ]
  },
  {
   "cell_type": "code",
   "execution_count": 31,
   "id": "f895a614",
   "metadata": {},
   "outputs": [
    {
     "data": {
      "text/plain": [
       "array(['ArthaBanijya'], dtype='<U15')"
      ]
     },
     "execution_count": 31,
     "metadata": {},
     "output_type": "execute_result"
    }
   ],
   "source": [
    "test=['२ पुस, काठमाडौं । चालु आर्थिक वर्ष (आव) २०८०/८१ को पहिलो पाँच महिना (साउन–मंसिर)को अवधिमै सरकारले १ यस वर्ष १७ खर्ब ५१ अर्ब ३१ करोड रुपैयाँको बजेट कार्यान्वयन गरिरहेको सरकारले ४ खर्ब ५२ अर्ब रुपैयाँ ऋण (आन्तरिक र बाह्य) उठाएर  जोहो गर्नुपर्ने हुन्छ ।']\n",
    "test=tfidf_vect.transform(test)\n",
    "model.predict(test)"
   ]
  },
  {
   "cell_type": "markdown",
   "id": "6a8325de",
   "metadata": {},
   "source": [
    "# label encode the target variable "
   ]
  },
  {
   "cell_type": "code",
   "execution_count": null,
   "id": "02c03612",
   "metadata": {},
   "outputs": [],
   "source": [
    "encoder = LabelEncoder()\n",
    "\n",
    "train_y = encoder.fit_transform(train_y)\n",
    "valid_y = encoder.fit_transform(valid_y)"
   ]
  },
  {
   "cell_type": "markdown",
   "id": "7d27ea84",
   "metadata": {},
   "source": [
    "# Extereme Gradient Boosting on Word Level TF IDF Vectors"
   ]
  },
  {
   "cell_type": "code",
   "execution_count": 37,
   "id": "6a7e422f",
   "metadata": {},
   "outputs": [
    {
     "name": "stdout",
     "output_type": "stream",
     "text": [
      "Xgb, WordLevel TF-IDF:  0.8168\n"
     ]
    }
   ],
   "source": [
    "\n",
    "accuracy,model = train_model(xgboost.XGBClassifier(), xtrain_tfidf.tocsc(), train_y, xvalid_tfidf.tocsc())\n",
    "print (\"Xgb, WordLevel TF-IDF: \", accuracy)"
   ]
  },
  {
   "cell_type": "code",
   "execution_count": 44,
   "id": "c686bf0c",
   "metadata": {},
   "outputs": [
    {
     "name": "stdout",
     "output_type": "stream",
     "text": [
      "['Desh']\n"
     ]
    }
   ],
   "source": [
    "test=['२ पुस, काठमाडौं । ललितपुर महानगरपालिकाले स्वास्थ्य बीमा कार्यक्रम सुरु गरेको छ ।महानगरको १०५ औं स्थापना दिवसको अवसरमा सोमबार प्रधानमन्त्री पुष्पकमल दाहाल प्रचण्डले अपा‌ंगता भएका रवि श्रेष्ठ र अपेक्षा तिमल्सिनालाई स्वास्थ्य बीमाको विद्युतीय कार्ड हस्तान्तरण गरेर कार्यक्रम सुरु गरेका हुन् ।']\n",
    "test=tfidf_vect.transform(test)\n",
    "result=model.predict(test)\n",
    "print(encoder.inverse_transform(result))"
   ]
  },
  {
   "cell_type": "code",
   "execution_count": null,
   "id": "771d3598",
   "metadata": {},
   "outputs": [],
   "source": []
  }
 ],
 "metadata": {
  "kernelspec": {
   "display_name": "Python 3 (ipykernel)",
   "language": "python",
   "name": "python3"
  },
  "language_info": {
   "codemirror_mode": {
    "name": "ipython",
    "version": 3
   },
   "file_extension": ".py",
   "mimetype": "text/x-python",
   "name": "python",
   "nbconvert_exporter": "python",
   "pygments_lexer": "ipython3",
   "version": "3.9.12"
  }
 },
 "nbformat": 4,
 "nbformat_minor": 5
}
